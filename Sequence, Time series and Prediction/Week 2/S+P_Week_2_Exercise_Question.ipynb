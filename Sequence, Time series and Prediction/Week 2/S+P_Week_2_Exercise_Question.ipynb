{
 "cells": [
  {
   "cell_type": "code",
   "execution_count": 3,
   "metadata": {
    "colab": {},
    "colab_type": "code",
    "id": "BOjujz601HcS"
   },
   "outputs": [
    {
     "name": "stdout",
     "output_type": "stream",
     "text": [
      "2.1.0\n"
     ]
    }
   ],
   "source": [
    "import tensorflow as tf\n",
    "import numpy as np\n",
    "import matplotlib.pyplot as plt\n",
    "print(tf.__version__)"
   ]
  },
  {
   "cell_type": "code",
   "execution_count": 11,
   "metadata": {
    "colab": {},
    "colab_type": "code",
    "id": "Zswl7jRtGzkk"
   },
   "outputs": [
    {
     "data": {
      "image/png": "[encoded data removed]",
      "text/plain": [
       "<Figure size 432x288 with 1 Axes>"
      ]
     },
     "metadata": {
      "needs_background": "light"
     },
     "output_type": "display_data"
    }
   ],
   "source": [
    "def plot_series(time, series, format=\"-\", start=0, end=None):\n",
    "    plt.plot(time[start:end], series[start:end], format)\n",
    "    plt.xlabel(\"Time\")\n",
    "    plt.ylabel(\"Value\")\n",
    "    plt.grid(False)\n",
    "\n",
    "def trend(time, slope=0):\n",
    "    return slope * time\n",
    "\n",
    "def seasonal_pattern(season_time):\n",
    "    \"\"\"Just an arbitrary pattern, you can change it if you wish\"\"\"\n",
    "    return np.where(season_time < 0.1,\n",
    "                    np.cos(season_time * 6 * np.pi),\n",
    "                    3 / np.exp(9 * season_time))\n",
    "\n",
    "def seasonality(time, period, amplitude=1, phase=0):\n",
    "    \"\"\"Repeats the same pattern at each period\"\"\"\n",
    "    season_time = ((time + phase) % period) / period\n",
    "    return amplitude * seasonal_pattern(season_time)\n",
    "\n",
    "def noise(time, noise_level=1, seed=None):\n",
    "    rnd = np.random.RandomState(seed)\n",
    "    return rnd.randn(len(time)) * noise_level\n",
    "\n",
    "time = np.arange(10 * 365 + 1, dtype=\"float32\")\n",
    "baseline = 10\n",
    "series = trend(time, 0.1)  \n",
    "baseline = 10\n",
    "amplitude = 40\n",
    "slope = 0.005\n",
    "noise_level = 3\n",
    "\n",
    "# Create the series\n",
    "series = baseline + trend(time, slope) + seasonality(time, period=365, amplitude=amplitude)\n",
    "# Update with noise\n",
    "series += noise(time, noise_level, seed=51)\n",
    "\n",
    "split_time = 3000\n",
    "time_train = time[:split_time]\n",
    "x_train = series[:split_time]\n",
    "time_valid = time[split_time:]\n",
    "x_valid = series[split_time:]\n",
    "\n",
    "window_size = 20\n",
    "batch_size = 32\n",
    "shuffle_buffer_size = 1000\n",
    "\n",
    "plot_series(time, series)"
   ]
  },
  {
   "cell_type": "markdown",
   "metadata": {
    "colab_type": "text",
    "id": "GfUTNqti_lNC"
   },
   "source": [
    "Desired output -- a chart that looks like this:\n",
    "\n",
    "![Chart showing upward trend and seasonailty](http://www.laurencemoroney.com/wp-content/uploads/2019/07/plot1.png)"
   ]
  },
  {
   "cell_type": "code",
   "execution_count": 12,
   "metadata": {
    "colab": {},
    "colab_type": "code",
    "id": "4sTTIOCbyShY"
   },
   "outputs": [],
   "source": [
    "def windowed_dataset(series, window_size, batch_size, shuffle_buffer):\n",
    "    dataset = tf.data.Dataset.from_tensor_slices(series)\n",
    "    dataset = dataset.window(window_size + 1, shift=1, drop_remainder=True)\n",
    "    dataset = dataset.flat_map(lambda window: window.batch(window_size + 1))\n",
    "    dataset = dataset.shuffle(shuffle_buffer).map(lambda window: (window[:-1], window[-1]))\n",
    "    dataset = dataset.batch(batch_size).prefetch(1)\n",
    "    return dataset"
   ]
  },
  {
   "cell_type": "code",
   "execution_count": 18,
   "metadata": {
    "colab": {},
    "colab_type": "code",
    "id": "TW-vT7eLYAdb"
   },
   "outputs": [
    {
     "name": "stdout",
     "output_type": "stream",
     "text": [
      "Epoch 1/100\n",
      "94/94 - 1s - loss: 52.1765\n",
      "Epoch 2/100\n",
      "94/94 - 1s - loss: 34.8351\n",
      "Epoch 3/100\n",
      "94/94 - 1s - loss: 31.3421\n",
      "Epoch 4/100\n",
      "94/94 - 1s - loss: 29.5317\n",
      "Epoch 5/100\n",
      "94/94 - 1s - loss: 27.8837\n",
      "Epoch 6/100\n",
      "94/94 - 1s - loss: 27.8249\n",
      "Epoch 7/100\n",
      "94/94 - 1s - loss: 26.7478\n",
      "Epoch 8/100\n",
      "94/94 - 1s - loss: 26.1069\n",
      "Epoch 9/100\n",
      "94/94 - 1s - loss: 25.7751\n",
      "Epoch 10/100\n",
      "94/94 - 1s - loss: 25.3500\n",
      "Epoch 11/100\n",
      "94/94 - 1s - loss: 25.6201\n",
      "Epoch 12/100\n",
      "94/94 - 1s - loss: 25.4963\n",
      "Epoch 13/100\n",
      "94/94 - 1s - loss: 25.1327\n",
      "Epoch 14/100\n",
      "94/94 - 1s - loss: 24.9809\n",
      "Epoch 15/100\n",
      "94/94 - 1s - loss: 25.1900\n",
      "Epoch 16/100\n",
      "94/94 - 1s - loss: 25.0328\n",
      "Epoch 17/100\n",
      "94/94 - 1s - loss: 24.0892\n",
      "Epoch 18/100\n",
      "94/94 - 1s - loss: 24.1203\n",
      "Epoch 19/100\n",
      "94/94 - 1s - loss: 23.9101\n",
      "Epoch 20/100\n",
      "94/94 - 1s - loss: 24.0461\n",
      "Epoch 21/100\n",
      "94/94 - 1s - loss: 23.8705\n",
      "Epoch 22/100\n",
      "94/94 - 1s - loss: 24.8313\n",
      "Epoch 23/100\n",
      "94/94 - 1s - loss: 23.9749\n",
      "Epoch 24/100\n",
      "94/94 - 1s - loss: 23.8556\n",
      "Epoch 25/100\n",
      "94/94 - 1s - loss: 23.6766\n",
      "Epoch 26/100\n",
      "94/94 - 1s - loss: 23.9126\n",
      "Epoch 27/100\n",
      "94/94 - 1s - loss: 23.7303\n",
      "Epoch 28/100\n",
      "94/94 - 1s - loss: 24.1024\n",
      "Epoch 29/100\n",
      "94/94 - 1s - loss: 23.5826\n",
      "Epoch 30/100\n",
      "94/94 - 1s - loss: 23.6336\n",
      "Epoch 31/100\n",
      "94/94 - 1s - loss: 23.4067\n",
      "Epoch 32/100\n",
      "94/94 - 1s - loss: 23.2240\n",
      "Epoch 33/100\n",
      "94/94 - 1s - loss: 23.6142\n",
      "Epoch 34/100\n",
      "94/94 - 1s - loss: 23.3723\n",
      "Epoch 35/100\n",
      "94/94 - 1s - loss: 23.4307\n",
      "Epoch 36/100\n",
      "94/94 - 1s - loss: 23.4204\n",
      "Epoch 37/100\n",
      "94/94 - 1s - loss: 23.8273\n",
      "Epoch 38/100\n",
      "94/94 - 1s - loss: 23.1242\n",
      "Epoch 39/100\n",
      "94/94 - 1s - loss: 23.0614\n",
      "Epoch 40/100\n",
      "94/94 - 1s - loss: 23.4441\n",
      "Epoch 41/100\n",
      "94/94 - 1s - loss: 23.3358\n",
      "Epoch 42/100\n",
      "94/94 - 1s - loss: 23.2092\n",
      "Epoch 43/100\n",
      "94/94 - 1s - loss: 22.8906\n",
      "Epoch 44/100\n",
      "94/94 - 1s - loss: 22.7219\n",
      "Epoch 45/100\n",
      "94/94 - 1s - loss: 22.2850\n",
      "Epoch 46/100\n",
      "94/94 - 1s - loss: 23.2238\n",
      "Epoch 47/100\n",
      "94/94 - 1s - loss: 23.3415\n",
      "Epoch 48/100\n",
      "94/94 - 1s - loss: 22.4780\n",
      "Epoch 49/100\n",
      "94/94 - 1s - loss: 22.7053\n",
      "Epoch 50/100\n",
      "94/94 - 1s - loss: 25.2591\n",
      "Epoch 51/100\n",
      "94/94 - 1s - loss: 23.6762\n",
      "Epoch 52/100\n",
      "94/94 - 1s - loss: 23.0102\n",
      "Epoch 53/100\n",
      "94/94 - 1s - loss: 22.4242\n",
      "Epoch 54/100\n",
      "94/94 - 1s - loss: 22.3836\n",
      "Epoch 55/100\n",
      "94/94 - 1s - loss: 21.5645\n",
      "Epoch 56/100\n",
      "94/94 - 1s - loss: 22.5850\n",
      "Epoch 57/100\n",
      "94/94 - 1s - loss: 22.2177\n",
      "Epoch 58/100\n",
      "94/94 - 1s - loss: 22.3207\n",
      "Epoch 59/100\n",
      "94/94 - 1s - loss: 22.7817\n",
      "Epoch 60/100\n",
      "94/94 - 1s - loss: 21.8337\n",
      "Epoch 61/100\n",
      "94/94 - 1s - loss: 22.4992\n",
      "Epoch 62/100\n",
      "94/94 - 1s - loss: 22.3555\n",
      "Epoch 63/100\n",
      "94/94 - 1s - loss: 21.4167\n",
      "Epoch 64/100\n",
      "94/94 - 1s - loss: 21.3609\n",
      "Epoch 65/100\n",
      "94/94 - 1s - loss: 22.0900\n",
      "Epoch 66/100\n",
      "94/94 - 1s - loss: 21.9018\n",
      "Epoch 67/100\n",
      "94/94 - 1s - loss: 21.7323\n",
      "Epoch 68/100\n",
      "94/94 - 1s - loss: 21.2435\n",
      "Epoch 69/100\n",
      "94/94 - 1s - loss: 23.2553\n",
      "Epoch 70/100\n",
      "94/94 - 1s - loss: 21.4997\n",
      "Epoch 71/100\n",
      "94/94 - 1s - loss: 21.6662\n",
      "Epoch 72/100\n",
      "94/94 - 1s - loss: 21.6437\n",
      "Epoch 73/100\n",
      "94/94 - 1s - loss: 24.9896\n",
      "Epoch 74/100\n",
      "94/94 - 1s - loss: 21.5250\n",
      "Epoch 75/100\n",
      "94/94 - 1s - loss: 21.8911\n",
      "Epoch 76/100\n",
      "94/94 - 1s - loss: 21.7120\n",
      "Epoch 77/100\n",
      "94/94 - 1s - loss: 21.1815\n",
      "Epoch 78/100\n",
      "94/94 - 1s - loss: 22.3422\n",
      "Epoch 79/100\n",
      "94/94 - 1s - loss: 21.5691\n",
      "Epoch 80/100\n",
      "94/94 - 1s - loss: 22.6241\n",
      "Epoch 81/100\n",
      "94/94 - 1s - loss: 21.1510\n",
      "Epoch 82/100\n",
      "94/94 - 1s - loss: 21.3442\n",
      "Epoch 83/100\n",
      "94/94 - 1s - loss: 22.1603\n",
      "Epoch 84/100\n",
      "94/94 - 1s - loss: 21.2011\n",
      "Epoch 85/100\n",
      "94/94 - 1s - loss: 21.4982\n",
      "Epoch 86/100\n",
      "94/94 - 1s - loss: 21.2888\n",
      "Epoch 87/100\n",
      "94/94 - 1s - loss: 21.1804\n",
      "Epoch 88/100\n",
      "94/94 - 1s - loss: 20.4274\n",
      "Epoch 89/100\n",
      "94/94 - 1s - loss: 21.3288\n",
      "Epoch 90/100\n",
      "94/94 - 1s - loss: 21.4077\n",
      "Epoch 91/100\n",
      "94/94 - 1s - loss: 21.4326\n",
      "Epoch 92/100\n",
      "94/94 - 1s - loss: 20.7614\n",
      "Epoch 93/100\n",
      "94/94 - 1s - loss: 21.5991\n",
      "Epoch 94/100\n",
      "94/94 - 1s - loss: 21.4164\n",
      "Epoch 95/100\n",
      "94/94 - 1s - loss: 21.4377\n",
      "Epoch 96/100\n",
      "94/94 - 1s - loss: 21.2684\n",
      "Epoch 97/100\n",
      "94/94 - 1s - loss: 21.2469\n",
      "Epoch 98/100\n",
      "94/94 - 1s - loss: 20.8636\n",
      "Epoch 99/100\n",
      "94/94 - 1s - loss: 20.6760\n",
      "Epoch 100/100\n",
      "94/94 - 1s - loss: 20.6723\n"
     ]
    },
    {
     "data": {
      "text/plain": [
       "<tensorflow.python.keras.callbacks.History at 0x1711001c780>"
      ]
     },
     "execution_count": 18,
     "metadata": {},
     "output_type": "execute_result"
    }
   ],
   "source": [
    "dataset = windowed_dataset(x_train, window_size, batch_size, shuffle_buffer_size)\n",
    "\n",
    "\n",
    "model = tf.keras.models.Sequential([\n",
    "    tf.keras.layers.Dense(20,input_shape=(window_size,),activation='relu'),\n",
    "    tf.keras.layers.Dense(10, activation=\"relu\"), \n",
    "    tf.keras.layers.Dense(1)\n",
    "])\n",
    "\n",
    "model.compile(loss=\"mse\", optimizer=\"adam\")\n",
    "model.fit(dataset,epochs=100,verbose=2)\n"
   ]
  },
  {
   "cell_type": "code",
   "execution_count": 19,
   "metadata": {
    "colab": {},
    "colab_type": "code",
    "id": "efhco2rYyIFF"
   },
   "outputs": [
    {
     "data": {
      "image/png": "[encoded data removed]",
      "text/plain": [
       "<Figure size 720x432 with 1 Axes>"
      ]
     },
     "metadata": {
      "needs_background": "light"
     },
     "output_type": "display_data"
    }
   ],
   "source": [
    "forecast = []\n",
    "for time in range(len(series) - window_size):\n",
    "    forecast.append(model.predict(series[time:time + window_size][np.newaxis]))\n",
    "\n",
    "forecast = forecast[split_time-window_size:]\n",
    "results = np.array(forecast)[:, 0, 0]\n",
    "\n",
    "\n",
    "plt.figure(figsize=(10, 6))\n",
    "\n",
    "plot_series(time_valid, x_valid)\n",
    "plot_series(time_valid, results)"
   ]
  },
  {
   "cell_type": "code",
   "execution_count": 20,
   "metadata": {
    "colab": {},
    "colab_type": "code",
    "id": "-kT6j186YO6K"
   },
   "outputs": [
    {
     "data": {
      "text/plain": [
       "2.9359794"
      ]
     },
     "execution_count": 20,
     "metadata": {},
     "output_type": "execute_result"
    }
   ],
   "source": [
    "tf.keras.metrics.mean_absolute_error(x_valid, results).numpy()\n",
    "# EXPECTED OUTPUT\n",
    "# A Value less than 3"
   ]
  },
  {
   "cell_type": "code",
   "execution_count": null,
   "metadata": {},
   "outputs": [],
   "source": []
  }
 ],
 "metadata": {
  "colab": {
   "name": "S+P_Week_2_Exercise_Question.ipynb",
   "provenance": [],
   "toc_visible": true
  },
  "kernelspec": {
   "display_name": "Python 3",
   "language": "python",
   "name": "python3"
  },
  "language_info": {
   "codemirror_mode": {
    "name": "ipython",
    "version": 3
   },
   "file_extension": ".py",
   "mimetype": "text/x-python",
   "name": "python",
   "nbconvert_exporter": "python",
   "pygments_lexer": "ipython3",
   "version": "3.6.5"
  }
 },
 "nbformat": 4,
 "nbformat_minor": 4
}
