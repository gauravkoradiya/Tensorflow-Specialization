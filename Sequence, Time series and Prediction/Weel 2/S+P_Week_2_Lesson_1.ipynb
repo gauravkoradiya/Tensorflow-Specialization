{
 "cells": [
  {
   "cell_type": "code",
   "execution_count": 2,
   "metadata": {
    "colab": {},
    "colab_type": "code",
    "id": "BOjujz601HcS"
   },
   "outputs": [],
   "source": [
    "import tensorflow as tf\n",
    "import numpy as np\n",
    "import matplotlib.pyplot as plt"
   ]
  },
  {
   "cell_type": "code",
   "execution_count": 21,
   "metadata": {
    "colab": {},
    "colab_type": "code",
    "id": "asEdslR_05O_"
   },
   "outputs": [
    {
     "name": "stdout",
     "output_type": "stream",
     "text": [
      "0 1 2 3 4 \n",
      "-------\n",
      "\n",
      "1 2 3 4 5 \n",
      "-------\n",
      "\n",
      "2 3 4 5 6 \n",
      "-------\n",
      "\n",
      "3 4 5 6 7 \n",
      "-------\n",
      "\n",
      "4 5 6 7 8 \n",
      "-------\n",
      "\n",
      "5 6 7 8 9 \n",
      "-------\n",
      "\n",
      "6 7 8 9 \n",
      "-------\n",
      "\n",
      "7 8 9 \n",
      "-------\n",
      "\n",
      "8 9 \n",
      "-------\n",
      "\n",
      "9 \n",
      "-------\n",
      "\n"
     ]
    }
   ],
   "source": [
    "dataset = tf.data.Dataset.range(10)\n",
    "dataset = dataset.window(size=5,shift=1)\n",
    "for window_data in dataset:\n",
    "    for val in window_data:\n",
    "        print(val.numpy(),end = \" \")\n",
    "    print(\"\\n-------\\n\")"
   ]
  },
  {
   "cell_type": "code",
   "execution_count": 25,
   "metadata": {},
   "outputs": [
    {
     "name": "stdout",
     "output_type": "stream",
     "text": [
      "0 1 2 3 4 \n",
      "-------\n",
      "\n",
      "1 2 3 4 5 \n",
      "-------\n",
      "\n",
      "2 3 4 5 6 \n",
      "-------\n",
      "\n",
      "3 4 5 6 7 \n",
      "-------\n",
      "\n",
      "4 5 6 7 8 \n",
      "-------\n",
      "\n",
      "5 6 7 8 9 \n",
      "-------\n",
      "\n"
     ]
    }
   ],
   "source": [
    "dataset = tf.data.Dataset.range(10)\n",
    "dataset = dataset.window(size=5,shift=1,drop_remainder = True)\n",
    "for window_data in dataset:\n",
    "    for val in window_data:\n",
    "        print(val.numpy(),end = \" \")\n",
    "    print(\"\\n-------\\n\")"
   ]
  },
  {
   "cell_type": "code",
   "execution_count": 35,
   "metadata": {},
   "outputs": [
    {
     "name": "stdout",
     "output_type": "stream",
     "text": [
      "[0 1 2 3 4]\n",
      "\n",
      "-------\n",
      "\n",
      "[1 2 3 4 5]\n",
      "\n",
      "-------\n",
      "\n",
      "[2 3 4 5 6]\n",
      "\n",
      "-------\n",
      "\n",
      "[3 4 5 6 7]\n",
      "\n",
      "-------\n",
      "\n",
      "[4 5 6 7 8]\n",
      "\n",
      "-------\n",
      "\n",
      "[5 6 7 8 9]\n",
      "\n",
      "-------\n",
      "\n"
     ]
    }
   ],
   "source": [
    "dataset = tf.data.Dataset.range(10)\n",
    "dataset = dataset.window(size=5,shift=1,drop_remainder = True)\n",
    "dataset = dataset.flat_map(lambda window : window.batch(5))\n",
    "for window_data in dataset:\n",
    "    print(window_data.numpy())\n",
    "    print(\"\\n-------\\n\")"
   ]
  },
  {
   "cell_type": "code",
   "execution_count": 43,
   "metadata": {},
   "outputs": [
    {
     "name": "stdout",
     "output_type": "stream",
     "text": [
      "[0 1 2 3] [4]\n",
      "\n",
      "-------\n",
      "\n",
      "[1 2 3 4] [5]\n",
      "\n",
      "-------\n",
      "\n",
      "[2 3 4 5] [6]\n",
      "\n",
      "-------\n",
      "\n",
      "[3 4 5 6] [7]\n",
      "\n",
      "-------\n",
      "\n",
      "[4 5 6 7] [8]\n",
      "\n",
      "-------\n",
      "\n",
      "[5 6 7 8] [9]\n",
      "\n",
      "-------\n",
      "\n"
     ]
    }
   ],
   "source": [
    "dataset = tf.data.Dataset.range(10)\n",
    "dataset = dataset.window(size=5,shift=1,drop_remainder = True)\n",
    "dataset = dataset.flat_map(lambda window : window.batch(5))\n",
    "dataset = dataset.map(lambda window : (window[:-1] , window[-1:]))\n",
    "for x , y in dataset:\n",
    "    print(x.numpy(),y.numpy())\n",
    "    print(\"\\n-------\\n\")"
   ]
  },
  {
   "cell_type": "code",
   "execution_count": 50,
   "metadata": {},
   "outputs": [
    {
     "name": "stdout",
     "output_type": "stream",
     "text": [
      "[[5 6 7 8]\n",
      " [0 1 2 3]] [[9]\n",
      " [4]]\n",
      "\n",
      "-------\n",
      "\n",
      "[[2 3 4 5]\n",
      " [3 4 5 6]] [[6]\n",
      " [7]]\n",
      "\n",
      "-------\n",
      "\n",
      "[[1 2 3 4]\n",
      " [4 5 6 7]] [[5]\n",
      " [8]]\n",
      "\n",
      "-------\n",
      "\n"
     ]
    }
   ],
   "source": [
    "dataset = tf.data.Dataset.range(10)\n",
    "dataset = dataset.window(size=5,shift=1,drop_remainder = True)\n",
    "dataset = dataset.flat_map(lambda window : window.batch(5))\n",
    "dataset = dataset.map(lambda window : (window[:-1] , window[-1:]))\n",
    "dataset = dataset.shuffle(buffer_size = 10).batch(2)\n",
    "for x , y in dataset:\n",
    "    print(x.numpy(),y.numpy())\n",
    "    print(\"\\n-------\\n\")"
   ]
  },
  {
   "cell_type": "code",
   "execution_count": null,
   "metadata": {},
   "outputs": [],
   "source": []
  },
  {
   "cell_type": "code",
   "execution_count": null,
   "metadata": {},
   "outputs": [],
   "source": []
  }
 ],
 "metadata": {
  "accelerator": "GPU",
  "colab": {
   "name": "S+P Week 2 Lesson 1.ipynb",
   "provenance": [],
   "toc_visible": true
  },
  "kernelspec": {
   "display_name": "Python 3",
   "language": "python",
   "name": "python3"
  },
  "language_info": {
   "codemirror_mode": {
    "name": "ipython",
    "version": 3
   },
   "file_extension": ".py",
   "mimetype": "text/x-python",
   "name": "python",
   "nbconvert_exporter": "python",
   "pygments_lexer": "ipython3",
   "version": "3.6.5"
  }
 },
 "nbformat": 4,
 "nbformat_minor": 4
}
