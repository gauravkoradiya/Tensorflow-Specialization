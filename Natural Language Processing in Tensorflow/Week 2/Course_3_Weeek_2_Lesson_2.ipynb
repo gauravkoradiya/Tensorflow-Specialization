{
 "cells": [
  {
   "cell_type": "code",
   "execution_count": 43,
   "metadata": {},
   "outputs": [],
   "source": [
    "import json\n",
    "import tensorflow as tf\n",
    "import numpy as np\n",
    "from tensorflow.keras.preprocessing.text import Tokenizer\n",
    "from tensorflow.keras.preprocessing.sequence import pad_sequences"
   ]
  },
  {
   "cell_type": "code",
   "execution_count": 3,
   "metadata": {},
   "outputs": [],
   "source": [
    "vocab_size = 1000\n",
    "embedding_dim = 16\n",
    "max_length = 100\n",
    "truc_type = 'post'\n",
    "padding_type = 'post'\n",
    "oov_tok = '<OOV>'\n",
    "training_size = 20000"
   ]
  },
  {
   "cell_type": "code",
   "execution_count": 4,
   "metadata": {},
   "outputs": [],
   "source": [
    "with open(\"E:////Tensorflow-Specialization//Dataset//sarcasm.json\") as f:\n",
    "    datastore = json.load(f)"
   ]
  },
  {
   "cell_type": "code",
   "execution_count": 8,
   "metadata": {},
   "outputs": [],
   "source": [
    "sentences = []\n",
    "labels = []\n",
    "for item in datastore:\n",
    "    sentences.append(item['headline'])\n",
    "    labels.append(item['is_sarcastic'])"
   ]
  },
  {
   "cell_type": "code",
   "execution_count": 11,
   "metadata": {},
   "outputs": [],
   "source": [
    "training_sentences,testing_sentences = sentences[:training_size] , sentences[training_size:]\n",
    "training_labels,testing_labels = labels[:training_size],labels[training_size:]"
   ]
  },
  {
   "cell_type": "code",
   "execution_count": 36,
   "metadata": {},
   "outputs": [],
   "source": [
    "tokenizer = Tokenizer(vocab_size,oov_token=oov_tok)\n",
    "tokenizer.fit_on_texts(training_sentences)\n"
   ]
  },
  {
   "cell_type": "code",
   "execution_count": 44,
   "metadata": {},
   "outputs": [],
   "source": [
    "training_sequence = tokenizer.texts_to_sequences(training_sentences)\n",
    "training_padded = pad_sequences(sequences=training_sequence, maxlen = max_length, padding=padding_type, truncating=truc_type)\n",
    "testing_sequences = tokenizer.texts_to_sequences(testing_sentences)\n",
    "testing_padded = pad_sequences(sequences=testing_sequences, maxlen=max_length, padding=padding_type, truncating=truc_type)\n",
    "training_padded = np.array(training_padded)\n",
    "training_labels = np.array(training_labels)\n",
    "testing_padded = np.array(testing_padded)\n",
    "testing_labels = np.array(testing_labels)"
   ]
  },
  {
   "cell_type": "code",
   "execution_count": 47,
   "metadata": {},
   "outputs": [
    {
     "name": "stdout",
     "output_type": "stream",
     "text": [
      "Model: \"sequential_13\"\n",
      "_________________________________________________________________\n",
      "Layer (type)                 Output Shape              Param #   \n",
      "=================================================================\n",
      "embedding_13 (Embedding)     (None, 100, 16)           16000     \n",
      "_________________________________________________________________\n",
      "global_average_pooling1d_2 ( (None, 16)                0         \n",
      "_________________________________________________________________\n",
      "dense_26 (Dense)             (None, 24)                408       \n",
      "_________________________________________________________________\n",
      "dense_27 (Dense)             (None, 1)                 25        \n",
      "=================================================================\n",
      "Total params: 16,433\n",
      "Trainable params: 16,433\n",
      "Non-trainable params: 0\n",
      "_________________________________________________________________\n"
     ]
    }
   ],
   "source": [
    "model = tf.keras.Sequential([\n",
    "    tf.keras.layers.Embedding(vocab_size, embedding_dim, input_length=max_length),\n",
    "    tf.keras.layers.GlobalAveragePooling1D(),\n",
    "    tf.keras.layers.Dense(24, activation='tanh'),\n",
    "    tf.keras.layers.Dense(1, activation='sigmoid')\n",
    "])\n",
    "model.compile(loss='binary_crossentropy',optimizer='adam',metrics=['accuracy','binary_accuracy'])\n",
    "model.summary()"
   ]
  },
  {
   "cell_type": "code",
   "execution_count": 48,
   "metadata": {},
   "outputs": [
    {
     "name": "stdout",
     "output_type": "stream",
     "text": [
      "Train on 20000 samples, validate on 6709 samples\n",
      "Epoch 1/20\n",
      "20000/20000 - 10s - loss: 0.6521 - accuracy: 0.6012 - binary_accuracy: 0.6012 - val_loss: 0.5404 - val_accuracy: 0.7684 - val_binary_accuracy: 0.7684\n",
      "Epoch 2/20\n",
      "20000/20000 - 7s - loss: 0.4447 - accuracy: 0.7951 - binary_accuracy: 0.7951 - val_loss: 0.4178 - val_accuracy: 0.8070 - val_binary_accuracy: 0.8070\n",
      "Epoch 3/20\n",
      "20000/20000 - 5s - loss: 0.3886 - accuracy: 0.8217 - binary_accuracy: 0.8217 - val_loss: 0.4042 - val_accuracy: 0.8134 - val_binary_accuracy: 0.8134\n",
      "Epoch 4/20\n",
      "20000/20000 - 5s - loss: 0.3726 - accuracy: 0.8292 - binary_accuracy: 0.8292 - val_loss: 0.4013 - val_accuracy: 0.8138 - val_binary_accuracy: 0.8138\n",
      "Epoch 5/20\n",
      "20000/20000 - 6s - loss: 0.3639 - accuracy: 0.8352 - binary_accuracy: 0.8352 - val_loss: 0.3998 - val_accuracy: 0.8150 - val_binary_accuracy: 0.8150\n",
      "Epoch 6/20\n",
      "20000/20000 - 4s - loss: 0.3597 - accuracy: 0.8348 - binary_accuracy: 0.8348 - val_loss: 0.4048 - val_accuracy: 0.8083 - val_binary_accuracy: 0.8083\n",
      "Epoch 7/20\n",
      "20000/20000 - 3s - loss: 0.3575 - accuracy: 0.8361 - binary_accuracy: 0.8361 - val_loss: 0.4141 - val_accuracy: 0.8040 - val_binary_accuracy: 0.8040\n",
      "Epoch 8/20\n",
      "20000/20000 - 3s - loss: 0.3550 - accuracy: 0.8400 - binary_accuracy: 0.8400 - val_loss: 0.4031 - val_accuracy: 0.8152 - val_binary_accuracy: 0.8152\n",
      "Epoch 9/20\n",
      "20000/20000 - 3s - loss: 0.3539 - accuracy: 0.8383 - binary_accuracy: 0.8383 - val_loss: 0.4042 - val_accuracy: 0.8131 - val_binary_accuracy: 0.8131\n",
      "Epoch 10/20\n",
      "20000/20000 - 3s - loss: 0.3529 - accuracy: 0.8389 - binary_accuracy: 0.8389 - val_loss: 0.4091 - val_accuracy: 0.8149 - val_binary_accuracy: 0.8149\n",
      "Epoch 11/20\n",
      "20000/20000 - 3s - loss: 0.3523 - accuracy: 0.8404 - binary_accuracy: 0.8404 - val_loss: 0.4076 - val_accuracy: 0.8094 - val_binary_accuracy: 0.8094\n",
      "Epoch 12/20\n",
      "20000/20000 - 3s - loss: 0.3520 - accuracy: 0.8395 - binary_accuracy: 0.8395 - val_loss: 0.4145 - val_accuracy: 0.8059 - val_binary_accuracy: 0.8059\n",
      "Epoch 13/20\n",
      "20000/20000 - 3s - loss: 0.3519 - accuracy: 0.8400 - binary_accuracy: 0.8400 - val_loss: 0.4095 - val_accuracy: 0.8104 - val_binary_accuracy: 0.8104\n",
      "Epoch 14/20\n",
      "20000/20000 - 3s - loss: 0.3499 - accuracy: 0.8422 - binary_accuracy: 0.8422 - val_loss: 0.4209 - val_accuracy: 0.8041 - val_binary_accuracy: 0.8041\n",
      "Epoch 15/20\n",
      "20000/20000 - 3s - loss: 0.3516 - accuracy: 0.8382 - binary_accuracy: 0.8382 - val_loss: 0.4136 - val_accuracy: 0.8104 - val_binary_accuracy: 0.8104\n",
      "Epoch 16/20\n",
      "20000/20000 - 3s - loss: 0.3489 - accuracy: 0.8411 - binary_accuracy: 0.8411 - val_loss: 0.4110 - val_accuracy: 0.8101 - val_binary_accuracy: 0.8101\n",
      "Epoch 17/20\n",
      "20000/20000 - 3s - loss: 0.3499 - accuracy: 0.8399 - binary_accuracy: 0.8399 - val_loss: 0.4100 - val_accuracy: 0.8104 - val_binary_accuracy: 0.8104\n",
      "Epoch 18/20\n",
      "20000/20000 - 3s - loss: 0.3495 - accuracy: 0.8395 - binary_accuracy: 0.8395 - val_loss: 0.4093 - val_accuracy: 0.8128 - val_binary_accuracy: 0.8128\n",
      "Epoch 19/20\n",
      "20000/20000 - 3s - loss: 0.3496 - accuracy: 0.8400 - binary_accuracy: 0.8400 - val_loss: 0.4101 - val_accuracy: 0.8146 - val_binary_accuracy: 0.8146\n",
      "Epoch 20/20\n",
      "20000/20000 - 3s - loss: 0.3491 - accuracy: 0.8399 - binary_accuracy: 0.8399 - val_loss: 0.4173 - val_accuracy: 0.8104 - val_binary_accuracy: 0.8104\n"
     ]
    }
   ],
   "source": [
    "EPOCH = 20\n",
    "\n",
    "history = model.fit(training_padded, training_labels, epochs=EPOCH, validation_data=(testing_padded, testing_labels), verbose=2)"
   ]
  },
  {
   "cell_type": "code",
   "execution_count": null,
   "metadata": {},
   "outputs": [],
   "source": []
  }
 ],
 "metadata": {
  "kernelspec": {
   "display_name": "Python 3",
   "language": "python",
   "name": "python3"
  },
  "language_info": {
   "codemirror_mode": {
    "name": "ipython",
    "version": 3
   },
   "file_extension": ".py",
   "mimetype": "text/x-python",
   "name": "python",
   "nbconvert_exporter": "python",
   "pygments_lexer": "ipython3",
   "version": "3.6.5"
  }
 },
 "nbformat": 4,
 "nbformat_minor": 4
}
