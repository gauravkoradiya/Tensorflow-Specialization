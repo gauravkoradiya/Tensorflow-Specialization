{
 "cells": [
  {
   "cell_type": "code",
   "execution_count": 43,
   "metadata": {},
   "outputs": [],
   "source": [
    "import json\n",
    "import tensorflow as tf\n",
    "import numpy as np\n",
    "from tensorflow.keras.preprocessing.text import Tokenizer\n",
    "from tensorflow.keras.preprocessing.sequence import pad_sequences"
   ]
  },
  {
   "cell_type": "code",
   "execution_count": 3,
   "metadata": {},
   "outputs": [],
   "source": [
    "vocab_size = 1000\n",
    "embedding_dim = 16\n",
    "max_length = 100\n",
    "truc_type = 'post'\n",
    "padding_type = 'post'\n",
    "oov_tok = '<OOV>'\n",
    "training_size = 20000"
   ]
  },
  {
   "cell_type": "code",
   "execution_count": 4,
   "metadata": {},
   "outputs": [],
   "source": [
    "with open(\"E:////Tensorflow-Specialization//Dataset//sarcasm.json\") as f:\n",
    "    datastore = json.load(f)"
   ]
  },
  {
   "cell_type": "code",
   "execution_count": 8,
   "metadata": {},
   "outputs": [],
   "source": [
    "sentences = []\n",
    "labels = []\n",
    "for item in datastore:\n",
    "    sentences.append(item['headline'])\n",
    "    labels.append(item['is_sarcastic'])"
   ]
  },
  {
   "cell_type": "code",
   "execution_count": 11,
   "metadata": {},
   "outputs": [],
   "source": [
    "training_sentences,testing_sentences = sentences[:training_size] , sentences[training_size:]\n",
    "training_labels,testing_labels = labels[:training_size],labels[training_size:]"
   ]
  },
  {
   "cell_type": "code",
   "execution_count": 36,
   "metadata": {},
   "outputs": [],
   "source": [
    "tokenizer = Tokenizer(vocab_size,oov_token=oov_tok)\n",
    "tokenizer.fit_on_texts(training_sentences)\n"
   ]
  },
  {
   "cell_type": "code",
   "execution_count": 44,
   "metadata": {},
   "outputs": [],
   "source": [
    "training_sequence = tokenizer.texts_to_sequences(training_sentences)\n",
    "training_padded = pad_sequences(sequences=training_sequence, maxlen = max_length, padding=padding_type, truncating=truc_type)\n",
    "testing_sequences = tokenizer.texts_to_sequences(testing_sentences)\n",
    "testing_padded = pad_sequences(sequences=testing_sequences, maxlen=max_length, padding=padding_type, truncating=truc_type)\n",
    "training_padded = np.array(training_padded)\n",
    "training_labels = np.array(training_labels)\n",
    "testing_padded = np.array(testing_padded)\n",
    "testing_labels = np.array(testing_labels)"
   ]
  },
  {
   "cell_type": "code",
   "execution_count": 50,
   "metadata": {},
   "outputs": [
    {
     "name": "stdout",
     "output_type": "stream",
     "text": [
      "Model: \"sequential_14\"\n",
      "_________________________________________________________________\n",
      "Layer (type)                 Output Shape              Param #   \n",
      "=================================================================\n",
      "embedding_14 (Embedding)     (None, 100, 16)           16000     \n",
      "_________________________________________________________________\n",
      "flatten_11 (Flatten)         (None, 1600)              0         \n",
      "_________________________________________________________________\n",
      "dense_28 (Dense)             (None, 24)                38424     \n",
      "_________________________________________________________________\n",
      "dense_29 (Dense)             (None, 1)                 25        \n",
      "=================================================================\n",
      "Total params: 54,449\n",
      "Trainable params: 54,449\n",
      "Non-trainable params: 0\n",
      "_________________________________________________________________\n"
     ]
    }
   ],
   "source": [
    "model = tf.keras.Sequential([\n",
    "    tf.keras.layers.Embedding(vocab_size, embedding_dim, input_length=max_length),\n",
    "        tf.keras.layers.Flatten(),\n",
    "    tf.keras.layers.Dense(24, activation='tanh'),\n",
    "    tf.keras.layers.Dense(1, activation='sigmoid')\n",
    "])\n",
    "model.compile(loss='binary_crossentropy',optimizer='adam',metrics=['accuracy','binary_accuracy'])\n",
    "model.summary()"
   ]
  },
  {
   "cell_type": "code",
   "execution_count": 51,
   "metadata": {},
   "outputs": [
    {
     "name": "stdout",
     "output_type": "stream",
     "text": [
      "Train on 20000 samples, validate on 6709 samples\n",
      "Epoch 1/20\n",
      "20000/20000 - 6s - loss: 0.4473 - accuracy: 0.7742 - binary_accuracy: 0.7742 - val_loss: 0.3783 - val_accuracy: 0.8238 - val_binary_accuracy: 0.8238\n",
      "Epoch 2/20\n",
      "20000/20000 - 7s - loss: 0.3179 - accuracy: 0.8593 - binary_accuracy: 0.8593 - val_loss: 0.3650 - val_accuracy: 0.8323 - val_binary_accuracy: 0.8323\n",
      "Epoch 3/20\n",
      "20000/20000 - 8s - loss: 0.2853 - accuracy: 0.8741 - binary_accuracy: 0.8741 - val_loss: 0.3753 - val_accuracy: 0.8298 - val_binary_accuracy: 0.8298\n",
      "Epoch 4/20\n",
      "20000/20000 - 7s - loss: 0.2585 - accuracy: 0.8889 - binary_accuracy: 0.8889 - val_loss: 0.4101 - val_accuracy: 0.8159 - val_binary_accuracy: 0.8159\n",
      "Epoch 5/20\n",
      "20000/20000 - 4s - loss: 0.2305 - accuracy: 0.9021 - binary_accuracy: 0.9021 - val_loss: 0.4266 - val_accuracy: 0.8217 - val_binary_accuracy: 0.8217\n",
      "Epoch 6/20\n",
      "20000/20000 - 5s - loss: 0.2022 - accuracy: 0.9176 - binary_accuracy: 0.9176 - val_loss: 0.4711 - val_accuracy: 0.8147 - val_binary_accuracy: 0.8147\n",
      "Epoch 7/20\n",
      "20000/20000 - 4s - loss: 0.1748 - accuracy: 0.9306 - binary_accuracy: 0.9306 - val_loss: 0.5385 - val_accuracy: 0.8065 - val_binary_accuracy: 0.8065\n",
      "Epoch 8/20\n",
      "20000/20000 - 4s - loss: 0.1535 - accuracy: 0.9383 - binary_accuracy: 0.9383 - val_loss: 0.6101 - val_accuracy: 0.7968 - val_binary_accuracy: 0.7968\n",
      "Epoch 9/20\n",
      "20000/20000 - 4s - loss: 0.1369 - accuracy: 0.9471 - binary_accuracy: 0.9471 - val_loss: 0.6776 - val_accuracy: 0.7976 - val_binary_accuracy: 0.7976\n",
      "Epoch 10/20\n",
      "20000/20000 - 4s - loss: 0.1248 - accuracy: 0.9526 - binary_accuracy: 0.9526 - val_loss: 0.7420 - val_accuracy: 0.7918 - val_binary_accuracy: 0.7918\n",
      "Epoch 11/20\n",
      "20000/20000 - 4s - loss: 0.1132 - accuracy: 0.9560 - binary_accuracy: 0.9560 - val_loss: 0.8215 - val_accuracy: 0.7892 - val_binary_accuracy: 0.7892\n",
      "Epoch 12/20\n",
      "20000/20000 - 4s - loss: 0.1078 - accuracy: 0.9571 - binary_accuracy: 0.9571 - val_loss: 0.8776 - val_accuracy: 0.7861 - val_binary_accuracy: 0.7861\n",
      "Epoch 13/20\n",
      "20000/20000 - 4s - loss: 0.1014 - accuracy: 0.9607 - binary_accuracy: 0.9607 - val_loss: 0.9309 - val_accuracy: 0.7834 - val_binary_accuracy: 0.7834\n",
      "Epoch 14/20\n",
      "20000/20000 - 4s - loss: 0.0949 - accuracy: 0.9629 - binary_accuracy: 0.9629 - val_loss: 0.9956 - val_accuracy: 0.7807 - val_binary_accuracy: 0.7807\n",
      "Epoch 15/20\n",
      "20000/20000 - 4s - loss: 0.0905 - accuracy: 0.9663 - binary_accuracy: 0.9663 - val_loss: 1.0732 - val_accuracy: 0.7772 - val_binary_accuracy: 0.7772\n",
      "Epoch 16/20\n",
      "20000/20000 - 8s - loss: 0.0860 - accuracy: 0.9671 - binary_accuracy: 0.9671 - val_loss: 1.1070 - val_accuracy: 0.7804 - val_binary_accuracy: 0.7804\n",
      "Epoch 17/20\n",
      "20000/20000 - 4s - loss: 0.0825 - accuracy: 0.9674 - binary_accuracy: 0.9674 - val_loss: 1.1612 - val_accuracy: 0.7755 - val_binary_accuracy: 0.7755\n",
      "Epoch 18/20\n",
      "20000/20000 - 4s - loss: 0.0812 - accuracy: 0.9681 - binary_accuracy: 0.9681 - val_loss: 1.1876 - val_accuracy: 0.7787 - val_binary_accuracy: 0.7787\n",
      "Epoch 19/20\n",
      "20000/20000 - 4s - loss: 0.0798 - accuracy: 0.9673 - binary_accuracy: 0.9673 - val_loss: 1.2325 - val_accuracy: 0.7742 - val_binary_accuracy: 0.7742\n",
      "Epoch 20/20\n",
      "20000/20000 - 4s - loss: 0.0765 - accuracy: 0.9710 - binary_accuracy: 0.9710 - val_loss: 1.2713 - val_accuracy: 0.7758 - val_binary_accuracy: 0.7758\n"
     ]
    }
   ],
   "source": [
    "EPOCH = 20\n",
    "\n",
    "history = model.fit(training_padded, training_labels, epochs=EPOCH, validation_data=(testing_padded, testing_labels), verbose=2)"
   ]
  },
  {
   "cell_type": "code",
   "execution_count": 52,
   "metadata": {},
   "outputs": [
    {
     "data": {
      "image/png": "[encoded data removed]",
      "text/plain": [
       "<Figure size 432x288 with 1 Axes>"
      ]
     },
     "metadata": {
      "needs_background": "light"
     },
     "output_type": "display_data"
    },
    {
     "data": {
      "image/png": "[encoded data removed]",
      "text/plain": [
       "<Figure size 432x288 with 1 Axes>"
      ]
     },
     "metadata": {
      "needs_background": "light"
     },
     "output_type": "display_data"
    }
   ],
   "source": [
    "%matplotlib inline\n",
    "import matplotlib.pyplot as plt\n",
    "def plot_graph(history,string):\n",
    "    plt.plot(history.history[string])\n",
    "    plt.plot(history.history['val_'+string])\n",
    "    plt.xlabel(\"Epochs\")\n",
    "    plt.ylabel(string)\n",
    "    plt.legend([string, 'val_'+string])\n",
    "    plt.show()\n",
    "\n",
    "plot_graph(history,\"accuracy\")\n",
    "plot_graph(history,\"loss\")"
   ]
  },
  {
   "cell_type": "code",
   "execution_count": 59,
   "metadata": {},
   "outputs": [
    {
     "data": {
      "text/plain": [
       "(1000, 16)"
      ]
     },
     "execution_count": 59,
     "metadata": {},
     "output_type": "execute_result"
    }
   ],
   "source": [
    "model.get_layer(index=0).get_weights()[0].shape"
   ]
  },
  {
   "cell_type": "code",
   "execution_count": 61,
   "metadata": {},
   "outputs": [
    {
     "name": "stdout",
     "output_type": "stream",
     "text": [
      "[[0.02081882]\n",
      " [0.9791444 ]]\n"
     ]
    }
   ],
   "source": [
    "sentence = [\"granny starting to fear spiders in the garden might be real\", \"game of thrones season finale showing this sunday night\"]\n",
    "sequences = tokenizer.texts_to_sequences(sentence)\n",
    "padded = pad_sequences(sequences, maxlen=max_length, padding=padding_type, truncating=truc_type)\n",
    "print(model.predict(padded))"
   ]
  },
  {
   "cell_type": "code",
   "execution_count": 62,
   "metadata": {},
   "outputs": [
    {
     "data": {
      "text/plain": [
       "array([[0],\n",
       "       [1]])"
      ]
     },
     "execution_count": 62,
     "metadata": {},
     "output_type": "execute_result"
    }
   ],
   "source": [
    "model.predict_classes(padded)"
   ]
  },
  {
   "cell_type": "code",
   "execution_count": null,
   "metadata": {},
   "outputs": [],
   "source": []
  }
 ],
 "metadata": {
  "kernelspec": {
   "display_name": "Python 3",
   "language": "python",
   "name": "python3"
  },
  "language_info": {
   "codemirror_mode": {
    "name": "ipython",
    "version": 3
   },
   "file_extension": ".py",
   "mimetype": "text/x-python",
   "name": "python",
   "nbconvert_exporter": "python",
   "pygments_lexer": "ipython3",
   "version": "3.6.5"
  }
 },
 "nbformat": 4,
 "nbformat_minor": 4
}
