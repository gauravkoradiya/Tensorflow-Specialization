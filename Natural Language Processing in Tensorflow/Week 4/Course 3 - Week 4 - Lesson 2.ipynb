{
 "cells": [
  {
   "cell_type": "code",
   "execution_count": 1,
   "metadata": {},
   "outputs": [],
   "source": [
    "import tensorflow as tf\n",
    "from tensorflow.keras.preprocessing.sequence import pad_sequences\n",
    "from tensorflow.keras.preprocessing.text import Tokenizer\n",
    "from tensorflow.keras.layers import LSTM,Bidirectional,Dense,Embedding\n",
    "from tensorflow.keras.models import Sequential\n",
    "from tensorflow.keras.optimizers import Adam,Adamax\n",
    "import numpy as np"
   ]
  },
  {
   "cell_type": "code",
   "execution_count": 2,
   "metadata": {},
   "outputs": [],
   "source": [
    "tokenizer = Tokenizer()\n",
    "data = open('irish-lyrics-eof.txt').read()\n",
    "corpus = data.lower().split('\\n')\n",
    "tokenizer.fit_on_texts(corpus)\n",
    "total_words =  len(tokenizer.word_index) + 1\n"
   ]
  },
  {
   "cell_type": "code",
   "execution_count": 7,
   "metadata": {},
   "outputs": [],
   "source": [
    "sequences = tokenizer.texts_to_sequences(corpus)\n",
    "MAX_SEQ_LENGTH = max([len(sequence) for sequence in sequences])\n",
    "input_sequences =  np.array(pad_sequences(sequences, maxlen=MAX_SEQ_LENGTH, padding='pre'))"
   ]
  },
  {
   "cell_type": "code",
   "execution_count": 9,
   "metadata": {},
   "outputs": [],
   "source": [
    "X , y = input_sequences[:,:-1],input_sequences[:,-1]"
   ]
  },
  {
   "cell_type": "code",
   "execution_count": 10,
   "metadata": {},
   "outputs": [
    {
     "data": {
      "text/plain": [
       "(1693, 15)"
      ]
     },
     "execution_count": 10,
     "metadata": {},
     "output_type": "execute_result"
    }
   ],
   "source": [
    "X.shape"
   ]
  },
  {
   "cell_type": "code",
   "execution_count": 12,
   "metadata": {},
   "outputs": [
    {
     "name": "stderr",
     "output_type": "stream",
     "text": [
      "WARNING: Logging before flag parsing goes to stderr.\n",
      "W0722 14:30:26.769533 29248 deprecation.py:323] From c:\\users\\koradg\\appdata\\local\\programs\\python\\python36\\lib\\site-packages\\tensorflow\\python\\ops\\math_grad.py:1250: add_dispatch_support.<locals>.wrapper (from tensorflow.python.ops.array_ops) is deprecated and will be removed in a future version.\n",
      "Instructions for updating:\n",
      "Use tf.where in 2.0, which has the same broadcast rule as np.where\n"
     ]
    },
    {
     "name": "stdout",
     "output_type": "stream",
     "text": [
      "Model: \"sequential_1\"\n",
      "_________________________________________________________________\n",
      "Layer (type)                 Output Shape              Param #   \n",
      "=================================================================\n",
      "embedding_1 (Embedding)      (None, 15, 100)           269000    \n",
      "_________________________________________________________________\n",
      "bidirectional_1 (Bidirection (None, 300)               301200    \n",
      "_________________________________________________________________\n",
      "dense_1 (Dense)              (None, 2690)              809690    \n",
      "=================================================================\n",
      "Total params: 1,379,890\n",
      "Trainable params: 1,379,890\n",
      "Non-trainable params: 0\n",
      "_________________________________________________________________\n",
      "Train on 1693 samples\n",
      "Epoch 1/50\n",
      "1693/1693 [==============================] - 3s 2ms/sample - loss: 7.5914 - accuracy: 0.0224\n",
      "Epoch 2/50\n",
      "1693/1693 [==============================] - 2s 916us/sample - loss: 6.6835 - accuracy: 0.0236\n",
      "Epoch 3/50\n",
      "1693/1693 [==============================] - 1s 881us/sample - loss: 6.4414 - accuracy: 0.0236\n",
      "Epoch 4/50\n",
      "1693/1693 [==============================] - 1s 859us/sample - loss: 6.2381 - accuracy: 0.0236\n",
      "Epoch 5/50\n",
      "1693/1693 [==============================] - 2s 940us/sample - loss: 6.1001 - accuracy: 0.0248 - loss: 6.0887 - accu\n",
      "Epoch 6/50\n",
      "1693/1693 [==============================] - 2s 888us/sample - loss: 5.9794 - accuracy: 0.0236\n",
      "Epoch 7/50\n",
      "1693/1693 [==============================] - 1s 869us/sample - loss: 5.8836 - accuracy: 0.0248\n",
      "Epoch 8/50\n",
      "1693/1693 [==============================] - 1s 861us/sample - loss: 5.8082 - accuracy: 0.0272\n",
      "Epoch 9/50\n",
      "1693/1693 [==============================] - 1s 883us/sample - loss: 5.6867 - accuracy: 0.0289\n",
      "Epoch 10/50\n",
      "1693/1693 [==============================] - 2s 1ms/sample - loss: 5.5595 - accuracy: 0.0384\n",
      "Epoch 11/50\n",
      "1693/1693 [==============================] - 2s 1ms/sample - loss: 5.4458 - accuracy: 0.0484\n",
      "Epoch 12/50\n",
      "1693/1693 [==============================] - 2s 1ms/sample - loss: 5.2344 - accuracy: 0.0579\n",
      "Epoch 13/50\n",
      "1693/1693 [==============================] - 2s 1ms/sample - loss: 4.9419 - accuracy: 0.0939\n",
      "Epoch 14/50\n",
      "1693/1693 [==============================] - 2s 1ms/sample - loss: 4.5870 - accuracy: 0.1093\n",
      "Epoch 15/50\n",
      "1693/1693 [==============================] - 2s 1ms/sample - loss: 4.2879 - accuracy: 0.1477\n",
      "Epoch 16/50\n",
      "1693/1693 [==============================] - 2s 1ms/sample - loss: 3.8960 - accuracy: 0.1884\n",
      "Epoch 17/50\n",
      "1693/1693 [==============================] - 2s 1ms/sample - loss: 3.4937 - accuracy: 0.2469\n",
      "Epoch 18/50\n",
      "1693/1693 [==============================] - 2s 1ms/sample - loss: 3.1487 - accuracy: 0.3042\n",
      "Epoch 19/50\n",
      "1693/1693 [==============================] - 2s 1ms/sample - loss: 2.7814 - accuracy: 0.3981\n",
      "Epoch 20/50\n",
      "1693/1693 [==============================] - 2s 1ms/sample - loss: 2.4148 - accuracy: 0.4979\n",
      "Epoch 21/50\n",
      "1693/1693 [==============================] - 2s 1ms/sample - loss: 2.1094 - accuracy: 0.5836\n",
      "Epoch 22/50\n",
      "1693/1693 [==============================] - 2s 1ms/sample - loss: 1.8163 - accuracy: 0.6675\n",
      "Epoch 23/50\n",
      "1693/1693 [==============================] - 2s 1ms/sample - loss: 1.5855 - accuracy: 0.7501\n",
      "Epoch 24/50\n",
      "1693/1693 [==============================] - 2s 1ms/sample - loss: 1.3216 - accuracy: 0.8145\n",
      "Epoch 25/50\n",
      "1693/1693 [==============================] - 2s 1ms/sample - loss: 1.0860 - accuracy: 0.8706\n",
      "Epoch 26/50\n",
      "1693/1693 [==============================] - 2s 1ms/sample - loss: 0.8637 - accuracy: 0.9209\n",
      "Epoch 27/50\n",
      "1693/1693 [==============================] - 2s 1ms/sample - loss: 0.6721 - accuracy: 0.9533\n",
      "Epoch 28/50\n",
      "1693/1693 [==============================] - 2s 1ms/sample - loss: 0.5404 - accuracy: 0.9716\n",
      "Epoch 29/50\n",
      "1693/1693 [==============================] - 2s 1ms/sample - loss: 0.4462 - accuracy: 0.9781\n",
      "Epoch 30/50\n",
      "1693/1693 [==============================] - 2s 1ms/sample - loss: 0.3538 - accuracy: 0.9858\n",
      "Epoch 31/50\n",
      "1693/1693 [==============================] - 2s 1ms/sample - loss: 0.2826 - accuracy: 0.9917\n",
      "Epoch 32/50\n",
      "1693/1693 [==============================] - 2s 1ms/sample - loss: 0.2339 - accuracy: 0.9953\n",
      "Epoch 33/50\n",
      "1693/1693 [==============================] - 2s 1ms/sample - loss: 0.1924 - accuracy: 0.9953\n",
      "Epoch 34/50\n",
      "1693/1693 [==============================] - 2s 1ms/sample - loss: 0.1653 - accuracy: 0.9970\n",
      "Epoch 35/50\n",
      "1693/1693 [==============================] - 2s 1ms/sample - loss: 0.1371 - accuracy: 0.9988\n",
      "Epoch 36/50\n",
      "1693/1693 [==============================] - 2s 1ms/sample - loss: 0.1177 - accuracy: 0.9982\n",
      "Epoch 37/50\n",
      "1693/1693 [==============================] - 2s 1ms/sample - loss: 0.1048 - accuracy: 0.9976\n",
      "Epoch 38/50\n",
      "1693/1693 [==============================] - 2s 1ms/sample - loss: 0.0933 - accuracy: 0.9976\n",
      "Epoch 39/50\n",
      "1693/1693 [==============================] - 2s 1ms/sample - loss: 0.0848 - accuracy: 0.9982\n",
      "Epoch 40/50\n",
      "1693/1693 [==============================] - 2s 1ms/sample - loss: 0.0767 - accuracy: 0.9976\n",
      "Epoch 41/50\n",
      "1693/1693 [==============================] - 2s 1ms/sample - loss: 0.0697 - accuracy: 0.9982\n",
      "Epoch 42/50\n",
      "1693/1693 [==============================] - 2s 1ms/sample - loss: 0.0634 - accuracy: 0.9982\n",
      "Epoch 43/50\n",
      "1693/1693 [==============================] - 2s 1ms/sample - loss: 0.0585 - accuracy: 0.9982\n",
      "Epoch 44/50\n",
      "1693/1693 [==============================] - 2s 1ms/sample - loss: 0.0540 - accuracy: 0.9988\n",
      "Epoch 45/50\n",
      "1693/1693 [==============================] - 2s 1ms/sample - loss: 0.0503 - accuracy: 0.9982\n",
      "Epoch 46/50\n",
      "1693/1693 [==============================] - 2s 1ms/sample - loss: 0.0465 - accuracy: 0.9976\n",
      "Epoch 47/50\n",
      "1693/1693 [==============================] - 2s 1ms/sample - loss: 0.0438 - accuracy: 0.9982\n",
      "Epoch 48/50\n",
      "1693/1693 [==============================] - 2s 1ms/sample - loss: 0.0420 - accuracy: 0.9982\n",
      "Epoch 49/50\n",
      "1693/1693 [==============================] - 2s 1ms/sample - loss: 0.0391 - accuracy: 0.9982\n",
      "Epoch 50/50\n",
      "1693/1693 [==============================] - 2s 1ms/sample - loss: 0.0367 - accuracy: 0.9976\n"
     ]
    },
    {
     "data": {
      "text/plain": [
       "<tensorflow.python.keras.callbacks.History at 0x2396a87dc50>"
      ]
     },
     "execution_count": 12,
     "metadata": {},
     "output_type": "execute_result"
    }
   ],
   "source": [
    "model = Sequential()\n",
    "model.add(Embedding(total_words, 100, input_length=MAX_SEQ_LENGTH-1))\n",
    "model.add(Bidirectional(LSTM(150)))\n",
    "model.add(Dense(total_words, activation='softmax'))\n",
    "model.compile(loss='sparse_categorical_crossentropy', optimizer='adam', metrics=['accuracy'])\n",
    "model.summary()\n",
    "model.fit(X,y,epochs=50)"
   ]
  },
  {
   "cell_type": "code",
   "execution_count": 14,
   "metadata": {},
   "outputs": [],
   "source": [
    "import matplotlib.pyplot as plt\n",
    "\n",
    "\n",
    "def plot_graphs(history, string):\n",
    "    plt.plot(history.history[string])\n",
    "    plt.xlabel(\"Epochs\")\n",
    "    plt.ylabel(string)\n",
    "    plt.show()"
   ]
  },
  {
   "cell_type": "code",
   "execution_count": 18,
   "metadata": {},
   "outputs": [
    {
     "data": {
      "image/png": "[encoded data removed]",
      "text/plain": [
       "<Figure size 432x288 with 1 Axes>"
      ]
     },
     "metadata": {
      "needs_background": "light"
     },
     "output_type": "display_data"
    },
    {
     "data": {
      "image/png": "[encoded data removed]",
      "text/plain": [
       "<Figure size 432x288 with 1 Axes>"
      ]
     },
     "metadata": {
      "needs_background": "light"
     },
     "output_type": "display_data"
    }
   ],
   "source": [
    "plot_graphs(_, 'accuracy')\n",
    "plot_graphs(_, 'loss')\n"
   ]
  },
  {
   "cell_type": "code",
   "execution_count": 22,
   "metadata": {},
   "outputs": [
    {
     "name": "stdout",
     "output_type": "stream",
     "text": [
      "I've got a bad feeling about this stood then then fly rest ground dream ground spleen wonder laughing laughing under grandmother eyes lies straight straight bide play more in town be be by by town said said tree said sea sea fray breast in in town tree sea down down down down green green ground lass lass ra clare clare hearted plight known may may sent sent sent sent li friend dying dying sea sea sea more over more by fair fair sing weather sailing sailing snare mooncoin jolly boy fair fair fair be be by in fair sing dream still still entangled born him fray be\n"
     ]
    }
   ],
   "source": [
    "seed_text = \"I've got a bad feeling about this\"\n",
    "next_words = 100\n",
    "  \n",
    "for _ in range(next_words):\n",
    "    token_list = tokenizer.texts_to_sequences([seed_text])[0]\n",
    "    token_list = pad_sequences([token_list], maxlen=MAX_SEQ_LENGTH-1, padding='pre')\n",
    "    predicted = model.predict_classes(token_list, verbose=0)\n",
    "    word = tokenizer.index_word[predicted[0]]\n",
    "    seed_text = seed_text+\" \"+word\n",
    "print(seed_text)"
   ]
  },
  {
   "cell_type": "code",
   "execution_count": null,
   "metadata": {},
   "outputs": [],
   "source": []
  }
 ],
 "metadata": {
  "kernelspec": {
   "display_name": "Python 3",
   "language": "python",
   "name": "python3"
  },
  "language_info": {
   "codemirror_mode": {
    "name": "ipython",
    "version": 3
   },
   "file_extension": ".py",
   "mimetype": "text/x-python",
   "name": "python",
   "nbconvert_exporter": "python",
   "pygments_lexer": "ipython3",
   "version": "3.6.5"
  }
 },
 "nbformat": 4,
 "nbformat_minor": 4
}
